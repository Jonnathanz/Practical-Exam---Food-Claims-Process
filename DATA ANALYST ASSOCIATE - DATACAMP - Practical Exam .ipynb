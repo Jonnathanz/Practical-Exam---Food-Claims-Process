{
 "cells": [
  {
   "cell_type": "markdown",
   "id": "bcc323de",
   "metadata": {},
   "source": [
    "# Practical Exam - Food Claims Process"
   ]
  },
  {
   "cell_type": "markdown",
   "id": "162b5d28",
   "metadata": {},
   "source": [
    "### VERSIONAMENTO:\n",
    "\n",
    "    • Python        v3.9.13\n",
    "    • numpy         v1.24.12\n",
    "    • pandas        v1.5.3\n",
    "    • matplotlib    v3.7.8"
   ]
  },
  {
   "cell_type": "markdown",
   "id": "75a14832",
   "metadata": {},
   "source": [
    "### 1 - Importando Bibliotecas"
   ]
  },
  {
   "cell_type": "code",
   "execution_count": 1,
   "id": "fa70beb5",
   "metadata": {},
   "outputs": [],
   "source": [
    "import os\n",
    "import re\n",
    "import numpy as np\n",
    "import pandas as pd\n",
    "import matplotlib.pyplot as plt"
   ]
  },
  {
   "cell_type": "markdown",
   "id": "cb8d10f2",
   "metadata": {},
   "source": [
    "##### 1.1 - Caminho do Arquivo:"
   ]
  },
  {
   "cell_type": "code",
   "execution_count": 2,
   "id": "51ce5d8d",
   "metadata": {},
   "outputs": [
    {
     "name": "stdout",
     "output_type": "stream",
     "text": [
      "CAMINHO DO ARQUIVO: c:\\Users\\Jonnathan\\Jupyter notebook\\Cursos\\Data Analyst Associate - Datacamp\n"
     ]
    }
   ],
   "source": [
    "current_path = os.getcwd()  # Variável que armazena o caminho atual do arquivo\n",
    "print(\"CAMINHO DO ARQUIVO: \" + current_path)"
   ]
  },
  {
   "cell_type": "markdown",
   "id": "2125d520",
   "metadata": {},
   "source": [
    "### 2 - Importando o Arquivo"
   ]
  },
  {
   "cell_type": "code",
   "execution_count": 3,
   "id": "1871ace5",
   "metadata": {},
   "outputs": [
    {
     "data": {
      "text/html": [
       "<div>\n",
       "<style scoped>\n",
       "    .dataframe tbody tr th:only-of-type {\n",
       "        vertical-align: middle;\n",
       "    }\n",
       "\n",
       "    .dataframe tbody tr th {\n",
       "        vertical-align: top;\n",
       "    }\n",
       "\n",
       "    .dataframe thead th {\n",
       "        text-align: right;\n",
       "    }\n",
       "</style>\n",
       "<table border=\"1\" class=\"dataframe\">\n",
       "  <thead>\n",
       "    <tr style=\"text-align: right;\">\n",
       "      <th></th>\n",
       "      <th>claim_id</th>\n",
       "      <th>time_to_close</th>\n",
       "      <th>claim_amount</th>\n",
       "      <th>amount_paid</th>\n",
       "      <th>location</th>\n",
       "      <th>individuals_on_claim</th>\n",
       "      <th>linked_cases</th>\n",
       "      <th>cause</th>\n",
       "    </tr>\n",
       "  </thead>\n",
       "  <tbody>\n",
       "    <tr>\n",
       "      <th>0</th>\n",
       "      <td>1</td>\n",
       "      <td>317</td>\n",
       "      <td>R$ 74474.55</td>\n",
       "      <td>51231.37</td>\n",
       "      <td>RECIFE</td>\n",
       "      <td>15</td>\n",
       "      <td>False</td>\n",
       "      <td>unknown</td>\n",
       "    </tr>\n",
       "    <tr>\n",
       "      <th>1</th>\n",
       "      <td>2</td>\n",
       "      <td>195</td>\n",
       "      <td>R$ 52137.83</td>\n",
       "      <td>42111.30</td>\n",
       "      <td>FORTALEZA</td>\n",
       "      <td>12</td>\n",
       "      <td>True</td>\n",
       "      <td>unknown</td>\n",
       "    </tr>\n",
       "    <tr>\n",
       "      <th>2</th>\n",
       "      <td>3</td>\n",
       "      <td>183</td>\n",
       "      <td>R$ 24447.2</td>\n",
       "      <td>23986.30</td>\n",
       "      <td>SAO LUIS</td>\n",
       "      <td>10</td>\n",
       "      <td>True</td>\n",
       "      <td>meat</td>\n",
       "    </tr>\n",
       "    <tr>\n",
       "      <th>3</th>\n",
       "      <td>4</td>\n",
       "      <td>186</td>\n",
       "      <td>R$ 29006.28</td>\n",
       "      <td>27942.72</td>\n",
       "      <td>FORTALEZA</td>\n",
       "      <td>11</td>\n",
       "      <td>False</td>\n",
       "      <td>meat</td>\n",
       "    </tr>\n",
       "    <tr>\n",
       "      <th>4</th>\n",
       "      <td>5</td>\n",
       "      <td>138</td>\n",
       "      <td>R$ 19520.6</td>\n",
       "      <td>16251.06</td>\n",
       "      <td>RECIFE</td>\n",
       "      <td>11</td>\n",
       "      <td>False</td>\n",
       "      <td>vegetable</td>\n",
       "    </tr>\n",
       "    <tr>\n",
       "      <th>...</th>\n",
       "      <td>...</td>\n",
       "      <td>...</td>\n",
       "      <td>...</td>\n",
       "      <td>...</td>\n",
       "      <td>...</td>\n",
       "      <td>...</td>\n",
       "      <td>...</td>\n",
       "      <td>...</td>\n",
       "    </tr>\n",
       "    <tr>\n",
       "      <th>1995</th>\n",
       "      <td>1996</td>\n",
       "      <td>176</td>\n",
       "      <td>R$ 28982.3</td>\n",
       "      <td>24265.02</td>\n",
       "      <td>RECIFE</td>\n",
       "      <td>10</td>\n",
       "      <td>False</td>\n",
       "      <td>meat</td>\n",
       "    </tr>\n",
       "    <tr>\n",
       "      <th>1996</th>\n",
       "      <td>1997</td>\n",
       "      <td>166</td>\n",
       "      <td>R$ 5188.44</td>\n",
       "      <td>4772.77</td>\n",
       "      <td>FORTALEZA</td>\n",
       "      <td>2</td>\n",
       "      <td>True</td>\n",
       "      <td>meat</td>\n",
       "    </tr>\n",
       "    <tr>\n",
       "      <th>1997</th>\n",
       "      <td>1998</td>\n",
       "      <td>179</td>\n",
       "      <td>R$ 11975.85</td>\n",
       "      <td>10087.81</td>\n",
       "      <td>RECIFE</td>\n",
       "      <td>4</td>\n",
       "      <td>True</td>\n",
       "      <td>meat</td>\n",
       "    </tr>\n",
       "    <tr>\n",
       "      <th>1998</th>\n",
       "      <td>1999</td>\n",
       "      <td>162</td>\n",
       "      <td>R$ 23516.28</td>\n",
       "      <td>23310.24</td>\n",
       "      <td>RECIFE</td>\n",
       "      <td>9</td>\n",
       "      <td>False</td>\n",
       "      <td>meat</td>\n",
       "    </tr>\n",
       "    <tr>\n",
       "      <th>1999</th>\n",
       "      <td>2000</td>\n",
       "      <td>150</td>\n",
       "      <td>R$ 8051.4</td>\n",
       "      <td>6417.92</td>\n",
       "      <td>RECIFE</td>\n",
       "      <td>4</td>\n",
       "      <td>False</td>\n",
       "      <td>vegetable</td>\n",
       "    </tr>\n",
       "  </tbody>\n",
       "</table>\n",
       "<p>2000 rows × 8 columns</p>\n",
       "</div>"
      ],
      "text/plain": [
       "      claim_id  time_to_close claim_amount  amount_paid   location  \\\n",
       "0            1            317  R$ 74474.55     51231.37     RECIFE   \n",
       "1            2            195  R$ 52137.83     42111.30  FORTALEZA   \n",
       "2            3            183   R$ 24447.2     23986.30   SAO LUIS   \n",
       "3            4            186  R$ 29006.28     27942.72  FORTALEZA   \n",
       "4            5            138   R$ 19520.6     16251.06     RECIFE   \n",
       "...        ...            ...          ...          ...        ...   \n",
       "1995      1996            176   R$ 28982.3     24265.02     RECIFE   \n",
       "1996      1997            166   R$ 5188.44      4772.77  FORTALEZA   \n",
       "1997      1998            179  R$ 11975.85     10087.81     RECIFE   \n",
       "1998      1999            162  R$ 23516.28     23310.24     RECIFE   \n",
       "1999      2000            150    R$ 8051.4      6417.92     RECIFE   \n",
       "\n",
       "      individuals_on_claim linked_cases      cause  \n",
       "0                       15        False    unknown  \n",
       "1                       12         True    unknown  \n",
       "2                       10         True       meat  \n",
       "3                       11        False       meat  \n",
       "4                       11        False  vegetable  \n",
       "...                    ...          ...        ...  \n",
       "1995                    10        False       meat  \n",
       "1996                     2         True       meat  \n",
       "1997                     4         True       meat  \n",
       "1998                     9        False       meat  \n",
       "1999                     4        False  vegetable  \n",
       "\n",
       "[2000 rows x 8 columns]"
      ]
     },
     "execution_count": 3,
     "metadata": {},
     "output_type": "execute_result"
    }
   ],
   "source": [
    "pasta_arquivo_base      = 'base'                    # pasta em relação ao caminho relativo da pasta de arquivos\n",
    "nome_arquivo            = 'food_claims_2212.csv'    # nome do arquivo\n",
    "pasta_arquivo_imagens   = 'images'                  # pasta em relação ao caminho relativo da pasta de imagens\n",
    "\n",
    "path_database = os.path.join(current_path, pasta_arquivo_base, nome_arquivo) # Variável que Caminho do arquivo base\n",
    "\n",
    "df_base = pd.read_csv(path_database)    # Leitura o arquivo csv\n",
    "columns = df_base.columns               # Guarda as colunas em uma variável\n",
    "df_base                                 # Mostra o arquivo"
   ]
  },
  {
   "cell_type": "markdown",
   "id": "648dbd0f",
   "metadata": {},
   "source": [
    "##### 2.1 - Tipo de dados para cada coluna:"
   ]
  },
  {
   "cell_type": "code",
   "execution_count": 4,
   "id": "e10904b7",
   "metadata": {},
   "outputs": [
    {
     "data": {
      "text/plain": [
       "claim_id                  int64\n",
       "time_to_close             int64\n",
       "claim_amount             object\n",
       "amount_paid             float64\n",
       "location                 object\n",
       "individuals_on_claim      int64\n",
       "linked_cases             object\n",
       "cause                    object\n",
       "dtype: object"
      ]
     },
     "execution_count": 4,
     "metadata": {},
     "output_type": "execute_result"
    }
   ],
   "source": [
    "df_base.dtypes    "
   ]
  },
  {
   "cell_type": "markdown",
   "id": "c5f707cd",
   "metadata": {},
   "source": [
    "##### 2.2 - Missing Values para cada coluna:"
   ]
  },
  {
   "cell_type": "code",
   "execution_count": 5,
   "id": "8fa9ff96",
   "metadata": {},
   "outputs": [
    {
     "name": "stdout",
     "output_type": "stream",
     "text": [
      "Quantidade de Valores Nulos por Coluna: \n"
     ]
    },
    {
     "data": {
      "text/plain": [
       "claim_id                 0\n",
       "time_to_close            0\n",
       "claim_amount             0\n",
       "amount_paid             36\n",
       "location                 0\n",
       "individuals_on_claim     0\n",
       "linked_cases            26\n",
       "cause                    0\n",
       "dtype: int64"
      ]
     },
     "execution_count": 5,
     "metadata": {},
     "output_type": "execute_result"
    }
   ],
   "source": [
    "# Verificando a quantidade de valores nulos por coluna\n",
    "\n",
    "missing_value = lambda df: df.apply(lambda x: x.isna().sum(), axis=0) # Função que recebe um pd.dataframe e retorna o número de missing values\n",
    "print('Quantidade de Valores Nulos por Coluna: ')\n",
    "missing_value(df_base)"
   ]
  },
  {
   "cell_type": "markdown",
   "id": "b38b6046",
   "metadata": {},
   "source": [
    "### 3 - Processamento de Dados"
   ]
  },
  {
   "cell_type": "markdown",
   "id": "01106909",
   "metadata": {},
   "source": [
    "##### 3.1 - Retirando o 'R$' da coluna claim_amount"
   ]
  },
  {
   "cell_type": "code",
   "execution_count": 6,
   "id": "46138c60",
   "metadata": {},
   "outputs": [
    {
     "data": {
      "text/plain": [
       "0       74474.55\n",
       "1       52137.83\n",
       "2       24447.20\n",
       "3       29006.28\n",
       "4       19520.60\n",
       "          ...   \n",
       "1995    28982.30\n",
       "1996     5188.44\n",
       "1997    11975.85\n",
       "1998    23516.28\n",
       "1999     8051.40\n",
       "Name: claim_amount, Length: 2000, dtype: float64"
      ]
     },
     "execution_count": 6,
     "metadata": {},
     "output_type": "execute_result"
    }
   ],
   "source": [
    "regex_number = r\"(?:\\d|\\.|N|A)+\" # Código regex para retirar o símbolo de moeda\n",
    "df_base['claim_amount'] = df_base['claim_amount'].map(lambda row: float(re.findall(regex_number, row)[0]))\n",
    "df_base['claim_amount']"
   ]
  },
  {
   "cell_type": "markdown",
   "id": "ed360ac3",
   "metadata": {},
   "source": [
    "##### 3.2 - Calculando as médias das colunas numéricas:\n",
    "        • time_to_close\n",
    "        • claim_amount\n",
    "        • amount_paid"
   ]
  },
  {
   "cell_type": "code",
   "execution_count": 7,
   "id": "c7658c98",
   "metadata": {},
   "outputs": [
    {
     "name": "stdout",
     "output_type": "stream",
     "text": [
      "MEDIANA time_to_close: 179.0\n",
      "MEDIANA claim_amount:  24821.08\n",
      "MEDIANA amount_paid:   20105.7\n"
     ]
    }
   ],
   "source": [
    "MEDIAN_time_to_close = df_base['time_to_close'].median()\n",
    "MEDIAN_claim_amount  = round(df_base['claim_amount'].median(), 2)\n",
    "MEDIAN_amount_paid   = round(df_base['amount_paid'].median(), 2)\n",
    "\n",
    "print('MEDIANA time_to_close: ' + str(MEDIAN_time_to_close))\n",
    "print('MEDIANA claim_amount:  ' + str(MEDIAN_claim_amount))\n",
    "print('MEDIANA amount_paid:   ' + str(MEDIAN_amount_paid))"
   ]
  },
  {
   "cell_type": "markdown",
   "id": "3fbd77a3",
   "metadata": {},
   "source": [
    "##### 3.3 - Realizando o Pré-Processamento do arquivo\n",
    "\n",
    "        • time_to_close:        Replace missing values with the overall median time to close.\n",
    "        • claim_amount:         Replace missing values with the overall median claim amount.\n",
    "        • amount_paid:          Replace missing values with the overall median amount paid.\n",
    "        • location:             Remove missing values.\n",
    "        • individuals_on_claim: Replace missing value with 0.\n",
    "        • linked_cases:         Replace missing values with FALSE.\n",
    "        • cause:                Replace missing values with ‘unknown’."
   ]
  },
  {
   "cell_type": "code",
   "execution_count": 8,
   "id": "37a8b633",
   "metadata": {},
   "outputs": [
    {
     "name": "stdout",
     "output_type": "stream",
     "text": [
      "Quantidade de Valores Nulos por Coluna: \n"
     ]
    },
    {
     "data": {
      "text/plain": [
       "claim_id                0\n",
       "time_to_close           0\n",
       "claim_amount            0\n",
       "amount_paid             0\n",
       "location                0\n",
       "individuals_on_claim    0\n",
       "linked_cases            0\n",
       "cause                   0\n",
       "dtype: int64"
      ]
     },
     "execution_count": 8,
     "metadata": {},
     "output_type": "execute_result"
    }
   ],
   "source": [
    "isna_replace = lambda elem, subs: subs if pd.isnull(elem) else elem # Função que recebe elem e subs, e troca elem por subs caso elem seja pd.isnull\n",
    "\n",
    "df_base['time_to_close'] = df_base['time_to_close'].map(lambda x: isna_replace(x, MEDIAN_time_to_close)) # time_to_close: Substitui missing values pela median   \n",
    "df_base['claim_amount']  = df_base['claim_amount'].map( lambda x: isna_replace(x, MEDIAN_claim_amount))  # claim_amount: Substitui missing values pela mediana\n",
    "df_base['amount_paid']   = df_base['amount_paid'].map(  lambda x: isna_replace(x, MEDIAN_amount_paid))   # amount_paid: Substitui missing values pela mediana\n",
    "\n",
    "df_base.drop(df_base.query('location.isna()').index)    # Remove linhas em que o location é nulo\n",
    "\n",
    "df_base['individuals_on_claim']     = df_base['individuals_on_claim'].map(  lambda x: isna_replace(x, 0)) # individuals_on_claim: Subistitui null por 0\n",
    "df_base['linked_cases']             = df_base['linked_cases'].map(  lambda x: isna_replace(x, False))     # linked_cases: Substitui missing values por False\n",
    "df_base['cause']                    = df_base['cause'].map(  lambda x: isna_replace(x, 'unknown'))        # cause: Substitui missing values por 'unknown'\n",
    "\n",
    "print('Quantidade de Valores Nulos por Coluna: ')\n",
    "missing_value(df_base)\n"
   ]
  },
  {
   "cell_type": "code",
   "execution_count": 9,
   "id": "3f221051",
   "metadata": {},
   "outputs": [
    {
     "data": {
      "text/html": [
       "<div>\n",
       "<style scoped>\n",
       "    .dataframe tbody tr th:only-of-type {\n",
       "        vertical-align: middle;\n",
       "    }\n",
       "\n",
       "    .dataframe tbody tr th {\n",
       "        vertical-align: top;\n",
       "    }\n",
       "\n",
       "    .dataframe thead th {\n",
       "        text-align: right;\n",
       "    }\n",
       "</style>\n",
       "<table border=\"1\" class=\"dataframe\">\n",
       "  <thead>\n",
       "    <tr style=\"text-align: right;\">\n",
       "      <th></th>\n",
       "      <th>claim_id</th>\n",
       "      <th>time_to_close</th>\n",
       "      <th>claim_amount</th>\n",
       "      <th>amount_paid</th>\n",
       "      <th>location</th>\n",
       "      <th>individuals_on_claim</th>\n",
       "      <th>linked_cases</th>\n",
       "      <th>cause</th>\n",
       "    </tr>\n",
       "  </thead>\n",
       "  <tbody>\n",
       "    <tr>\n",
       "      <th>0</th>\n",
       "      <td>1</td>\n",
       "      <td>317</td>\n",
       "      <td>74474.55</td>\n",
       "      <td>51231.37</td>\n",
       "      <td>RECIFE</td>\n",
       "      <td>15</td>\n",
       "      <td>False</td>\n",
       "      <td>unknown</td>\n",
       "    </tr>\n",
       "    <tr>\n",
       "      <th>1</th>\n",
       "      <td>2</td>\n",
       "      <td>195</td>\n",
       "      <td>52137.83</td>\n",
       "      <td>42111.30</td>\n",
       "      <td>FORTALEZA</td>\n",
       "      <td>12</td>\n",
       "      <td>True</td>\n",
       "      <td>unknown</td>\n",
       "    </tr>\n",
       "    <tr>\n",
       "      <th>2</th>\n",
       "      <td>3</td>\n",
       "      <td>183</td>\n",
       "      <td>24447.20</td>\n",
       "      <td>23986.30</td>\n",
       "      <td>SAO LUIS</td>\n",
       "      <td>10</td>\n",
       "      <td>True</td>\n",
       "      <td>meat</td>\n",
       "    </tr>\n",
       "    <tr>\n",
       "      <th>3</th>\n",
       "      <td>4</td>\n",
       "      <td>186</td>\n",
       "      <td>29006.28</td>\n",
       "      <td>27942.72</td>\n",
       "      <td>FORTALEZA</td>\n",
       "      <td>11</td>\n",
       "      <td>False</td>\n",
       "      <td>meat</td>\n",
       "    </tr>\n",
       "    <tr>\n",
       "      <th>4</th>\n",
       "      <td>5</td>\n",
       "      <td>138</td>\n",
       "      <td>19520.60</td>\n",
       "      <td>16251.06</td>\n",
       "      <td>RECIFE</td>\n",
       "      <td>11</td>\n",
       "      <td>False</td>\n",
       "      <td>vegetable</td>\n",
       "    </tr>\n",
       "    <tr>\n",
       "      <th>...</th>\n",
       "      <td>...</td>\n",
       "      <td>...</td>\n",
       "      <td>...</td>\n",
       "      <td>...</td>\n",
       "      <td>...</td>\n",
       "      <td>...</td>\n",
       "      <td>...</td>\n",
       "      <td>...</td>\n",
       "    </tr>\n",
       "    <tr>\n",
       "      <th>1995</th>\n",
       "      <td>1996</td>\n",
       "      <td>176</td>\n",
       "      <td>28982.30</td>\n",
       "      <td>24265.02</td>\n",
       "      <td>RECIFE</td>\n",
       "      <td>10</td>\n",
       "      <td>False</td>\n",
       "      <td>meat</td>\n",
       "    </tr>\n",
       "    <tr>\n",
       "      <th>1996</th>\n",
       "      <td>1997</td>\n",
       "      <td>166</td>\n",
       "      <td>5188.44</td>\n",
       "      <td>4772.77</td>\n",
       "      <td>FORTALEZA</td>\n",
       "      <td>2</td>\n",
       "      <td>True</td>\n",
       "      <td>meat</td>\n",
       "    </tr>\n",
       "    <tr>\n",
       "      <th>1997</th>\n",
       "      <td>1998</td>\n",
       "      <td>179</td>\n",
       "      <td>11975.85</td>\n",
       "      <td>10087.81</td>\n",
       "      <td>RECIFE</td>\n",
       "      <td>4</td>\n",
       "      <td>True</td>\n",
       "      <td>meat</td>\n",
       "    </tr>\n",
       "    <tr>\n",
       "      <th>1998</th>\n",
       "      <td>1999</td>\n",
       "      <td>162</td>\n",
       "      <td>23516.28</td>\n",
       "      <td>23310.24</td>\n",
       "      <td>RECIFE</td>\n",
       "      <td>9</td>\n",
       "      <td>False</td>\n",
       "      <td>meat</td>\n",
       "    </tr>\n",
       "    <tr>\n",
       "      <th>1999</th>\n",
       "      <td>2000</td>\n",
       "      <td>150</td>\n",
       "      <td>8051.40</td>\n",
       "      <td>6417.92</td>\n",
       "      <td>RECIFE</td>\n",
       "      <td>4</td>\n",
       "      <td>False</td>\n",
       "      <td>vegetable</td>\n",
       "    </tr>\n",
       "  </tbody>\n",
       "</table>\n",
       "<p>2000 rows × 8 columns</p>\n",
       "</div>"
      ],
      "text/plain": [
       "      claim_id  time_to_close  claim_amount  amount_paid   location  \\\n",
       "0            1            317      74474.55     51231.37     RECIFE   \n",
       "1            2            195      52137.83     42111.30  FORTALEZA   \n",
       "2            3            183      24447.20     23986.30   SAO LUIS   \n",
       "3            4            186      29006.28     27942.72  FORTALEZA   \n",
       "4            5            138      19520.60     16251.06     RECIFE   \n",
       "...        ...            ...           ...          ...        ...   \n",
       "1995      1996            176      28982.30     24265.02     RECIFE   \n",
       "1996      1997            166       5188.44      4772.77  FORTALEZA   \n",
       "1997      1998            179      11975.85     10087.81     RECIFE   \n",
       "1998      1999            162      23516.28     23310.24     RECIFE   \n",
       "1999      2000            150       8051.40      6417.92     RECIFE   \n",
       "\n",
       "      individuals_on_claim  linked_cases      cause  \n",
       "0                       15         False    unknown  \n",
       "1                       12          True    unknown  \n",
       "2                       10          True       meat  \n",
       "3                       11         False       meat  \n",
       "4                       11         False  vegetable  \n",
       "...                    ...           ...        ...  \n",
       "1995                    10         False       meat  \n",
       "1996                     2          True       meat  \n",
       "1997                     4          True       meat  \n",
       "1998                     9         False       meat  \n",
       "1999                     4         False  vegetable  \n",
       "\n",
       "[2000 rows x 8 columns]"
      ]
     },
     "execution_count": 9,
     "metadata": {},
     "output_type": "execute_result"
    }
   ],
   "source": [
    "df_base"
   ]
  },
  {
   "cell_type": "markdown",
   "id": "a0186d89",
   "metadata": {},
   "source": [
    "### 4 - Gráficos"
   ]
  },
  {
   "cell_type": "markdown",
   "id": "11a2a8c6",
   "metadata": {},
   "source": [
    "##### 4.1.1 - Barplot: Number of claims in each location"
   ]
  },
  {
   "cell_type": "code",
   "execution_count": 10,
   "id": "d22a96ae",
   "metadata": {},
   "outputs": [
    {
     "data": {
      "text/html": [
       "<div>\n",
       "<style scoped>\n",
       "    .dataframe tbody tr th:only-of-type {\n",
       "        vertical-align: middle;\n",
       "    }\n",
       "\n",
       "    .dataframe tbody tr th {\n",
       "        vertical-align: top;\n",
       "    }\n",
       "\n",
       "    .dataframe thead th {\n",
       "        text-align: right;\n",
       "    }\n",
       "</style>\n",
       "<table border=\"1\" class=\"dataframe\">\n",
       "  <thead>\n",
       "    <tr style=\"text-align: right;\">\n",
       "      <th></th>\n",
       "      <th>FORTALEZA</th>\n",
       "      <th>NATAL</th>\n",
       "      <th>RECIFE</th>\n",
       "      <th>SAO LUIS</th>\n",
       "    </tr>\n",
       "  </thead>\n",
       "  <tbody>\n",
       "    <tr>\n",
       "      <th>0</th>\n",
       "      <td>311</td>\n",
       "      <td>287</td>\n",
       "      <td>885</td>\n",
       "      <td>517</td>\n",
       "    </tr>\n",
       "  </tbody>\n",
       "</table>\n",
       "</div>"
      ],
      "text/plain": [
       "   FORTALEZA  NATAL  RECIFE  SAO LUIS\n",
       "0        311    287     885       517"
      ]
     },
     "execution_count": 10,
     "metadata": {},
     "output_type": "execute_result"
    }
   ],
   "source": [
    "S_location               = pd.Series(df_base['location'].unique()).sort_values()                             # Série dos valores únicos de Location\n",
    "S_count_location         = S_location.map(lambda x: df_base.query('location == \"{}\"'.format(x)).count()[0])  # Série da contagem de claims de cada Location\n",
    "\n",
    "df_claims_by_location = pd.DataFrame(S_count_location.T).T  # Dataframe da contagem de claims como linha\n",
    "df_claims_by_location.columns = S_location                  # Adicionando Location como coluna\n",
    "df_claims_by_location"
   ]
  },
  {
   "cell_type": "code",
   "execution_count": 11,
   "id": "6466d763",
   "metadata": {},
   "outputs": [
    {
     "data": {
      "image/png": "[encoded data removed]",
      "text/plain": [
       "<Figure size 640x480 with 1 Axes>"
      ]
     },
     "metadata": {},
     "output_type": "display_data"
    }
   ],
   "source": [
    "nome_Barplot = '1_barplot_claims_by_location.jpeg'                  # Nome da imagem do barplot\n",
    "\n",
    "fig, ax = plt.subplots(1, 1)\n",
    "\n",
    "ax.grid(axis='y', color='#d9d9d9', zorder=0)                        # Adicionando a grade\n",
    "ax.set_yticks((range(0,S_count_location.max()+100,100)))            # Alterando as marcações no eixo y\n",
    "ax.bar(S_location, S_count_location, color='#595959', zorder=3)     # Adicionando o gráfico de barras\n",
    "\n",
    "ax.set_title('Count of Claims Process by Location')                 # Adicionando título\n",
    "ax.set_xlabel('Location')                                           # Adicionando texto no eixo x\n",
    "ax.set_ylabel('Count of Claims')                                    # Adicionando texto no eixo y\n",
    "\n",
    "path_savefig = os.path.join(os.getcwd(), pasta_arquivo_imagens, nome_Barplot)   # Caminho da imagem\n",
    "fig.savefig(path_savefig)                                                       # Salvando a imagem"
   ]
  },
  {
   "cell_type": "markdown",
   "id": "70ce1951",
   "metadata": {},
   "source": [
    "##### 4.1.2 - Barplot: Number of claims in each location - RELATIVE"
   ]
  },
  {
   "cell_type": "code",
   "execution_count": 12,
   "id": "3a554696",
   "metadata": {},
   "outputs": [
    {
     "data": {
      "text/html": [
       "<div>\n",
       "<style scoped>\n",
       "    .dataframe tbody tr th:only-of-type {\n",
       "        vertical-align: middle;\n",
       "    }\n",
       "\n",
       "    .dataframe tbody tr th {\n",
       "        vertical-align: top;\n",
       "    }\n",
       "\n",
       "    .dataframe thead th {\n",
       "        text-align: right;\n",
       "    }\n",
       "</style>\n",
       "<table border=\"1\" class=\"dataframe\">\n",
       "  <thead>\n",
       "    <tr style=\"text-align: right;\">\n",
       "      <th></th>\n",
       "      <th>location</th>\n",
       "      <th>Count of Claim %</th>\n",
       "      <th>Percentage of Claim %</th>\n",
       "    </tr>\n",
       "  </thead>\n",
       "  <tbody>\n",
       "    <tr>\n",
       "      <th>1</th>\n",
       "      <td>FORTALEZA</td>\n",
       "      <td>311</td>\n",
       "      <td>15.55</td>\n",
       "    </tr>\n",
       "    <tr>\n",
       "      <th>3</th>\n",
       "      <td>NATAL</td>\n",
       "      <td>287</td>\n",
       "      <td>14.35</td>\n",
       "    </tr>\n",
       "    <tr>\n",
       "      <th>0</th>\n",
       "      <td>RECIFE</td>\n",
       "      <td>885</td>\n",
       "      <td>44.25</td>\n",
       "    </tr>\n",
       "    <tr>\n",
       "      <th>2</th>\n",
       "      <td>SAO LUIS</td>\n",
       "      <td>517</td>\n",
       "      <td>25.85</td>\n",
       "    </tr>\n",
       "  </tbody>\n",
       "</table>\n",
       "</div>"
      ],
      "text/plain": [
       "    location Count of Claim % Percentage of Claim %\n",
       "1  FORTALEZA              311                 15.55\n",
       "3      NATAL              287                 14.35\n",
       "0     RECIFE              885                 44.25\n",
       "2   SAO LUIS              517                 25.85"
      ]
     },
     "execution_count": 12,
     "metadata": {},
     "output_type": "execute_result"
    },
    {
     "data": {
      "image/png": "[encoded data removed]",
      "text/plain": [
       "<Figure size 640x480 with 1 Axes>"
      ]
     },
     "metadata": {},
     "output_type": "display_data"
    }
   ],
   "source": [
    "nome_Barplot                = '1_barplot_claims_by_location_relative.jpeg'                  # Nome da imagem do barplot\n",
    "max_claim                   = df_base.shape[0]\n",
    "S_count_location_relative   = S_count_location/max_claim*100\n",
    "fig, ax = plt.subplots(1, 1)\n",
    "\n",
    "ax.grid(axis='y', color='#d9d9d9', zorder=0)                                                # Adicionando a grade\n",
    "ax.set_yticks(np.arange(0,int(S_count_location_relative.max()+0.1)*100,0.1*100))            # Alterando as marcações no eixo y\n",
    "\n",
    "bar = ax.bar(S_location, S_count_location_relative, color='#595959', zorder=3)     # Adicionando o gráfico de barras\n",
    "\n",
    "ax.set_title('Percentage of Claims Process by Location')                          # Adicionando título\n",
    "ax.set_xlabel('Location')                                                    # Adicionando texto no eixo x\n",
    "ax.set_ylabel('% of Claims')                                           # Adicionando texto no eixo y\n",
    "\n",
    "bar[2].set_color('red')\n",
    "\n",
    "path_savefig = os.path.join(os.getcwd(), pasta_arquivo_imagens, nome_Barplot)   # Caminho da imagem\n",
    "fig.savefig(path_savefig)                                                       # Salvando a imagem\n",
    "\n",
    "df_location_claim_relative          = pd.DataFrame([S_location, S_count_location, S_count_location_relative]).T\n",
    "df_location_claim_relative.columns  = ['location', 'Count of Claim %','Percentage of Claim %']\n",
    "df_location_claim_relative"
   ]
  },
  {
   "cell_type": "markdown",
   "id": "58c00bab",
   "metadata": {},
   "source": [
    "##### 4.2 - Histogram: Distribution of time_to_close for all claims"
   ]
  },
  {
   "cell_type": "code",
   "execution_count": 13,
   "id": "a7f7aea5",
   "metadata": {},
   "outputs": [
    {
     "name": "stdout",
     "output_type": "stream",
     "text": [
      "Desvio Padrão:  49.16\n",
      "Média:         185.57\n"
     ]
    },
    {
     "data": {
      "image/png": "[encoded data removed]",
      "text/plain": [
       "<Figure size 640x480 with 1 Axes>"
      ]
     },
     "metadata": {},
     "output_type": "display_data"
    }
   ],
   "source": [
    "nome_Histogram = '2_Histogram_claims_by_time_to_close.jpeg'                  # Nome da imagem do barplot\n",
    "\n",
    "interval_xticks = 40                                    # Intervalo de cada marcador principal do gráfico no eixo x\n",
    "interval_yticks = 50                                    # Intervalo de cada marcador principal do gráfico no eixo y\n",
    "interval_bin    = 10                                    # Intervalo para o cálculo de frequência do histograma\n",
    "min_bin         = 0                                     # Valor mínimo no eixo x\n",
    "max_bin         = df_base['time_to_close'].max()        # Valor máximo no eixo x\n",
    "\n",
    "bin = np.arange(min_bin, max_bin+interval_bin, interval_bin)    # Array contendo o vetor de marcadores do histograma do eixo x\n",
    "\n",
    "fig, ax = plt.subplots(1, 1)\n",
    "\n",
    "ax.grid(color='#d9d9d9', which='major', zorder=0)                                   # Grade principal do gráfico\n",
    "ax.grid(color='#f0f0f0', which='minor', zorder=0)                                   # Grade secundária do gráfico\n",
    "ax.set_xlim((bin.min(),bin.max()))                                                  # Limites no eixo x\n",
    "ax.set_xticks(np.arange(min_bin, max_bin+interval_xticks, interval_xticks))         # Adiciona os marcadores do eixo principal no eixo x\n",
    "ax.set_xticks(np.arange(min_bin, max_bin+interval_bin, interval_bin), minor=True)   # Adiciona a grade do eixo secundário no eixo x\n",
    "\n",
    "ax.set_yticks(np.arange(0, df_base['time_to_close'].max()+interval_yticks, interval_yticks))        # Adiciona os marcadores do eixo principal no eixo y\n",
    "ax.set_yticks(np.arange(0, df_base['time_to_close'].max()+interval_bin, interval_bin), minor=True)  # Adiciona a grade do eixo secundário no eixo y\n",
    "\n",
    "ax.hist(df_base['time_to_close'], bins = bin, color=\"#595959\", zorder=3)    # Adicionando o histograma        \n",
    "ax.set_title('Distribution of Time to Close for all claims')                # Adicionando o título\n",
    "ax.set_xlabel('Time to Close')                                              # Adicionando o label no eixo x\n",
    "ax.set_ylabel('Count of Claim')                                             # Adicionando o label no eixo y\n",
    "\n",
    "path_savefig = os.path.join(os.getcwd(), pasta_arquivo_imagens, nome_Histogram)   # Caminho da imagem\n",
    "fig.savefig(path_savefig)                                                         # Salvando a imagem\n",
    "\n",
    "print('Desvio Padrão:  ' + str(round(df_base['time_to_close'].std(), 2)))\n",
    "print('Média:         ' + str(round(df_base['time_to_close'].mean(), 2)))"
   ]
  },
  {
   "cell_type": "markdown",
   "id": "3272bcd2",
   "metadata": {},
   "source": [
    "##### 4.3 - BoxPlot: Relationship between time to close and location"
   ]
  },
  {
   "cell_type": "code",
   "execution_count": 26,
   "id": "0565f84d",
   "metadata": {},
   "outputs": [
    {
     "name": "stderr",
     "output_type": "stream",
     "text": [
      "C:\\Users\\Jonnathan\\AppData\\Local\\Temp\\ipykernel_852\\1304309763.py:26: FutureWarning: The default value of numeric_only in DataFrameGroupBy.median is deprecated. In a future version, numeric_only will default to False. Either specify numeric_only or select only columns which should be valid for the function.\n",
      "  s_timeToClose_byLocation_median = round(df_base.groupby('location').median()['time_to_close'], 2)\n",
      "C:\\Users\\Jonnathan\\AppData\\Local\\Temp\\ipykernel_852\\1304309763.py:27: FutureWarning: The default value of numeric_only in DataFrameGroupBy.std is deprecated. In a future version, numeric_only will default to False. Either specify numeric_only or select only columns which should be valid for the function.\n",
      "  s_timeToClose_byLocation_std    = round(df_base.groupby('location').std()['time_to_close'], 2)\n"
     ]
    },
    {
     "data": {
      "text/html": [
       "<div>\n",
       "<style scoped>\n",
       "    .dataframe tbody tr th:only-of-type {\n",
       "        vertical-align: middle;\n",
       "    }\n",
       "\n",
       "    .dataframe tbody tr th {\n",
       "        vertical-align: top;\n",
       "    }\n",
       "\n",
       "    .dataframe thead th {\n",
       "        text-align: right;\n",
       "    }\n",
       "</style>\n",
       "<table border=\"1\" class=\"dataframe\">\n",
       "  <thead>\n",
       "    <tr style=\"text-align: right;\">\n",
       "      <th></th>\n",
       "      <th>Median - Time to Close</th>\n",
       "      <th>Standard Deviation - Time to Close</th>\n",
       "    </tr>\n",
       "    <tr>\n",
       "      <th>location</th>\n",
       "      <th></th>\n",
       "      <th></th>\n",
       "    </tr>\n",
       "  </thead>\n",
       "  <tbody>\n",
       "    <tr>\n",
       "      <th>FORTALEZA</th>\n",
       "      <td>180.0</td>\n",
       "      <td>47.58</td>\n",
       "    </tr>\n",
       "    <tr>\n",
       "      <th>NATAL</th>\n",
       "      <td>179.0</td>\n",
       "      <td>47.06</td>\n",
       "    </tr>\n",
       "    <tr>\n",
       "      <th>RECIFE</th>\n",
       "      <td>178.0</td>\n",
       "      <td>48.01</td>\n",
       "    </tr>\n",
       "    <tr>\n",
       "      <th>SAO LUIS</th>\n",
       "      <td>179.0</td>\n",
       "      <td>53.13</td>\n",
       "    </tr>\n",
       "  </tbody>\n",
       "</table>\n",
       "</div>"
      ],
      "text/plain": [
       "           Median - Time to Close  Standard Deviation - Time to Close\n",
       "location                                                             \n",
       "FORTALEZA                   180.0                               47.58\n",
       "NATAL                       179.0                               47.06\n",
       "RECIFE                      178.0                               48.01\n",
       "SAO LUIS                    179.0                               53.13"
      ]
     },
     "execution_count": 26,
     "metadata": {},
     "output_type": "execute_result"
    },
    {
     "data": {
      "image/png": "[encoded data removed]",
      "text/plain": [
       "<Figure size 640x480 with 1 Axes>"
      ]
     },
     "metadata": {},
     "output_type": "display_data"
    }
   ],
   "source": [
    "nome_Boxplot = '3_Histogram_time_to_close_by_location.jpeg'     # Nome da imagem do boxplot\n",
    "\n",
    "ymin_value = 0                                                  # Limite mínimo do eixo y\n",
    "ymax_value = int(df_base['time_to_close'].max()/100)*100 + 100  # Limite máximo do eixo y\n",
    "\n",
    "fig, ax = plt.subplots(1, 1)\n",
    "\n",
    "bp = df_base.boxplot(                                           # Desenvolvimento do boxplot de time_to_close por location\n",
    "    ax              = ax,\n",
    "    by              = 'location',\n",
    "    column          = 'time_to_close',\n",
    "    patch_artist    =  True,\n",
    "    color           =  dict(boxes = '#595959', whiskers = '#595959', medians = 'white'),\n",
    "    \n",
    ")\n",
    "\n",
    "fig.suptitle('')                                                            # Retirando o subtitulo que vem por padrão no boxplot do dataframe\n",
    "ax.set_ylim((ymin_value, ymax_value))                                       # Limites no eixo x\n",
    "bp.set_title('Relationship Between Time to Close and Location')             # Adicionando o título\n",
    "ax.set_xlabel('Location')                                                   # Adicionando o label no eixo x\n",
    "ax.set_ylabel('Time to Close')                                              # Adicionando o label no eixo y\n",
    "\n",
    "path_savefig = os.path.join(os.getcwd(), pasta_arquivo_imagens, nome_Boxplot)   # Caminho da imagem\n",
    "fig.savefig(path_savefig)                                                       # Salvando a imagem\n",
    "\n",
    "s_timeToClose_byLocation_median = round(df_base.groupby('location').median()['time_to_close'], 2)\n",
    "s_timeToClose_byLocation_std    = round(df_base.groupby('location').std()['time_to_close'], 2)\n",
    "\n",
    "df_timeToClose_byLocation = pd.DataFrame([s_timeToClose_byLocation_median, s_timeToClose_byLocation_std]).T\n",
    "df_timeToClose_byLocation.columns = ['Median - Time to Close', 'Standard Deviation - Time to Close']\n",
    "df_timeToClose_byLocation"
   ]
  },
  {
   "cell_type": "markdown",
   "id": "24489af9",
   "metadata": {},
   "source": [
    "##### 4.4 - BoxPlot: Relationship between time to close and location (No outliers)"
   ]
  },
  {
   "cell_type": "code",
   "execution_count": 15,
   "id": "660951e9",
   "metadata": {},
   "outputs": [
    {
     "data": {
      "image/png": "[encoded data removed]",
      "text/plain": [
       "<Figure size 640x480 with 1 Axes>"
      ]
     },
     "metadata": {},
     "output_type": "display_data"
    }
   ],
   "source": [
    "nome_Boxplot = '4_Histogram_time_to_close_by_location_ampliada.jpeg'     # Nome da imagem do boxplot\n",
    "\n",
    "ymin_value = 0                                                  # Limite mínimo do eixo y\n",
    "ymax_value = 300  # Limite máximo do eixo y\n",
    "\n",
    "fig, ax = plt.subplots(1, 1)\n",
    "\n",
    "bp = df_base.boxplot(                                           # Desenvolvimento do boxplot de time_to_close por location\n",
    "    ax              = ax,\n",
    "    by              = 'location',\n",
    "    column          = 'time_to_close',\n",
    "    patch_artist    =  True,\n",
    "    color           =  dict(boxes = '#595959', whiskers = '#595959', medians = 'white'),\n",
    "    \n",
    ")\n",
    "\n",
    "fig.suptitle('')                                                            # Retirando o subtitulo que vem por padrão no boxplot do dataframe\n",
    "ax.set_ylim((ymin_value, ymax_value))                                       # Limites no eixo x\n",
    "bp.set_title('Relationship Between Time to Close and Location')             # Adicionando o título\n",
    "ax.set_xlabel('Location')                                                   # Adicionando o label no eixo x\n",
    "ax.set_ylabel('Time to Close')                                              # Adicionando o label no eixo y\n",
    "\n",
    "path_savefig = os.path.join(os.getcwd(), pasta_arquivo_imagens, nome_Boxplot)     # Caminho da imagem\n",
    "fig.savefig(path_savefig)                                                         # Salvando a imagem"
   ]
  }
 ],
 "metadata": {
  "kernelspec": {
   "display_name": "Python 3 (ipykernel)",
   "language": "python",
   "name": "python3"
  },
  "language_info": {
   "codemirror_mode": {
    "name": "ipython",
    "version": 3
   },
   "file_extension": ".py",
   "mimetype": "text/x-python",
   "name": "python",
   "nbconvert_exporter": "python",
   "pygments_lexer": "ipython3",
   "version": "3.9.13"
  }
 },
 "nbformat": 4,
 "nbformat_minor": 5
}
